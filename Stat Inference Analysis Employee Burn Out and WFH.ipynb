{
 "cells": [
  {
   "cell_type": "code",
   "execution_count": 1,
   "id": "58a6af08",
   "metadata": {},
   "outputs": [],
   "source": [
    "import pandas as pd \n",
    "import numpy as np "
   ]
  },
  {
   "cell_type": "markdown",
   "id": "6be465b5",
   "metadata": {},
   "source": [
    "# Statistical Inference - Employee Burn Out and WFH \n",
    "Use statistical techniques learned to answer a question about a population. The population could be students, people in a country, employees etc. E.g., does this new curriculum improve student’s reading skills? \n",
    "Analyze your results and summarize \n",
    "\n"
   ]
  },
  {
   "cell_type": "markdown",
   "id": "e399ee33",
   "metadata": {},
   "source": [
    "1. One Sample Mean \n",
    "- Confidence Interval: Estimate the population mean given a random sample \n",
    "- Hypothesis Testing: Does the random sample mean differ (greater or lower than) from the population mean \n",
    "\n",
    "2. One Sample Proportion \n",
    "- Confidence Interval: Estimate the population proportion given a random sample \n",
    "- Hypthesis Testing: Does the random sample proportion differ (greater or lower than) from the population proportion?\n",
    "\n",
    "3. Two Independend Means \n",
    "- Confidence Interval: Estimate the population difference in means given a random sample (n1 and n2 greater than 30) \n",
    "- Hypothesis Testing: Does the random sample mean difference differ (greater or lower than) the hypothesized population mean difference (0)?\n",
    "\n",
    "4. Two Independend Proportions  \n",
    "- Confidence Interval: Estimate the population proportion given a random sample (at least 10 successes and 10 failures) \n",
    "- Hypothesis Testing: Does the random sample proportion difference differ (greater or lower than) the hypothesized population proportion difference (0)?\n",
    "\n",
    "5. Paired Means \n",
    "- Confidence Interval: Estimate the population mean change given a random sample \n",
    "- Hypothesis Testing: Does the random sample mean change differ from the population mean change? "
   ]
  },
  {
   "cell_type": "markdown",
   "id": "3746c2b8",
   "metadata": {},
   "source": [
    "We will use a dataset about Employee Burn Out Rate from kaggle https://www.kaggle.com/datasets/blurredmachine/are-your-employees-burning-out/data\n",
    "\n",
    "    Employee ID: The unique ID allocated for each employee (example: fffe390032003000)\n",
    "    Date of Joining: The date-time when the employee has joined the organization (example: 2008-12-30)\n",
    "    Gender: The gender of the employee (Male/Female)\n",
    "    Company Type: The type of company where the employee is working (Service/Product)\n",
    "    WFH Setup Available: Is the work from home facility available for the employee (Yes/No)\n",
    "    Designation: The designation of the employee of work in the organization.\n",
    "    In the range of [0.0, 5.0] bigger is higher designation.\n",
    "    Resource Allocation: The amount of resource allocated to the employee to work, ie. number of working hours.\n",
    "    In the range of [1.0, 10.0] (higher means more resource)\n",
    "    Mental Fatigue Score: The level of fatigue mentally the employee is facing.\n",
    "    In the range of [0.0, 10.0] where 0.0 means no fatigue and 10.0 means completely fatigue.\n",
    "    Burn Rate: The value we need to predict for each employee telling the rate of Bur out while working.\n",
    "    In the range of [0.0, 1.0] where the higher the value is more is the burn out.\n"
   ]
  },
  {
   "cell_type": "code",
   "execution_count": 215,
   "id": "bc70e1c6",
   "metadata": {},
   "outputs": [],
   "source": [
    "df = pd.concat([pd.read_csv('burnout_train.csv'),pd.read_csv('burnout_test.csv')])"
   ]
  },
  {
   "cell_type": "code",
   "execution_count": 216,
   "id": "94207cd6",
   "metadata": {},
   "outputs": [],
   "source": [
    "df = df.dropna()"
   ]
  },
  {
   "cell_type": "code",
   "execution_count": 476,
   "id": "2fdc3de0",
   "metadata": {},
   "outputs": [],
   "source": [
    "#Let's looks at the population of employees at \"service\" companies \n",
    "df_all = df.loc[df['Company Type']=='Service']"
   ]
  },
  {
   "cell_type": "code",
   "execution_count": 477,
   "id": "25aac376",
   "metadata": {},
   "outputs": [
    {
     "data": {
      "text/plain": [
       "(12174, 9)"
      ]
     },
     "execution_count": 477,
     "metadata": {},
     "output_type": "execute_result"
    }
   ],
   "source": [
    "df_all.shape"
   ]
  },
  {
   "cell_type": "code",
   "execution_count": 478,
   "id": "76822889",
   "metadata": {},
   "outputs": [
    {
     "data": {
      "text/html": [
       "<div>\n",
       "<style scoped>\n",
       "    .dataframe tbody tr th:only-of-type {\n",
       "        vertical-align: middle;\n",
       "    }\n",
       "\n",
       "    .dataframe tbody tr th {\n",
       "        vertical-align: top;\n",
       "    }\n",
       "\n",
       "    .dataframe thead th {\n",
       "        text-align: right;\n",
       "    }\n",
       "</style>\n",
       "<table border=\"1\" class=\"dataframe\">\n",
       "  <thead>\n",
       "    <tr style=\"text-align: right;\">\n",
       "      <th></th>\n",
       "      <th>Employee ID</th>\n",
       "      <th>Date of Joining</th>\n",
       "      <th>Gender</th>\n",
       "      <th>Company Type</th>\n",
       "      <th>WFH Setup Available</th>\n",
       "      <th>Designation</th>\n",
       "      <th>Resource Allocation</th>\n",
       "      <th>Mental Fatigue Score</th>\n",
       "      <th>Burn Rate</th>\n",
       "    </tr>\n",
       "  </thead>\n",
       "  <tbody>\n",
       "    <tr>\n",
       "      <th>4174</th>\n",
       "      <td>fffe31003300340036003600</td>\n",
       "      <td>2008-02-27</td>\n",
       "      <td>Female</td>\n",
       "      <td>Service</td>\n",
       "      <td>Yes</td>\n",
       "      <td>2.0</td>\n",
       "      <td>3.0</td>\n",
       "      <td>6.5</td>\n",
       "      <td>0.45</td>\n",
       "    </tr>\n",
       "    <tr>\n",
       "      <th>10858</th>\n",
       "      <td>fffe33003100380035003300</td>\n",
       "      <td>2008-11-04</td>\n",
       "      <td>Male</td>\n",
       "      <td>Service</td>\n",
       "      <td>No</td>\n",
       "      <td>2.0</td>\n",
       "      <td>4.0</td>\n",
       "      <td>4.9</td>\n",
       "      <td>0.25</td>\n",
       "    </tr>\n",
       "    <tr>\n",
       "      <th>16093</th>\n",
       "      <td>fffe32003900310033003700</td>\n",
       "      <td>2008-07-15</td>\n",
       "      <td>Male</td>\n",
       "      <td>Service</td>\n",
       "      <td>No</td>\n",
       "      <td>2.0</td>\n",
       "      <td>3.0</td>\n",
       "      <td>3.8</td>\n",
       "      <td>0.33</td>\n",
       "    </tr>\n",
       "    <tr>\n",
       "      <th>2354</th>\n",
       "      <td>fffe31003700300037003600</td>\n",
       "      <td>2008-04-17</td>\n",
       "      <td>Female</td>\n",
       "      <td>Service</td>\n",
       "      <td>Yes</td>\n",
       "      <td>0.0</td>\n",
       "      <td>1.0</td>\n",
       "      <td>0.5</td>\n",
       "      <td>0.05</td>\n",
       "    </tr>\n",
       "    <tr>\n",
       "      <th>20284</th>\n",
       "      <td>fffe31003600340033003700</td>\n",
       "      <td>2008-08-05</td>\n",
       "      <td>Female</td>\n",
       "      <td>Service</td>\n",
       "      <td>Yes</td>\n",
       "      <td>1.0</td>\n",
       "      <td>4.0</td>\n",
       "      <td>7.0</td>\n",
       "      <td>0.48</td>\n",
       "    </tr>\n",
       "    <tr>\n",
       "      <th>20361</th>\n",
       "      <td>fffe3100320036003000</td>\n",
       "      <td>2008-02-11</td>\n",
       "      <td>Female</td>\n",
       "      <td>Service</td>\n",
       "      <td>No</td>\n",
       "      <td>3.0</td>\n",
       "      <td>5.0</td>\n",
       "      <td>7.7</td>\n",
       "      <td>0.68</td>\n",
       "    </tr>\n",
       "    <tr>\n",
       "      <th>22295</th>\n",
       "      <td>fffe32003800320032003100</td>\n",
       "      <td>2008-02-20</td>\n",
       "      <td>Female</td>\n",
       "      <td>Service</td>\n",
       "      <td>No</td>\n",
       "      <td>2.0</td>\n",
       "      <td>4.0</td>\n",
       "      <td>7.6</td>\n",
       "      <td>0.55</td>\n",
       "    </tr>\n",
       "    <tr>\n",
       "      <th>16446</th>\n",
       "      <td>fffe3200310032003600</td>\n",
       "      <td>2008-03-24</td>\n",
       "      <td>Female</td>\n",
       "      <td>Service</td>\n",
       "      <td>Yes</td>\n",
       "      <td>2.0</td>\n",
       "      <td>5.0</td>\n",
       "      <td>4.9</td>\n",
       "      <td>0.41</td>\n",
       "    </tr>\n",
       "    <tr>\n",
       "      <th>13505</th>\n",
       "      <td>fffe32003600340038003000</td>\n",
       "      <td>2008-02-19</td>\n",
       "      <td>Female</td>\n",
       "      <td>Service</td>\n",
       "      <td>No</td>\n",
       "      <td>1.0</td>\n",
       "      <td>4.0</td>\n",
       "      <td>5.0</td>\n",
       "      <td>0.40</td>\n",
       "    </tr>\n",
       "    <tr>\n",
       "      <th>9137</th>\n",
       "      <td>fffe31003500380036003600</td>\n",
       "      <td>2008-02-07</td>\n",
       "      <td>Female</td>\n",
       "      <td>Service</td>\n",
       "      <td>No</td>\n",
       "      <td>2.0</td>\n",
       "      <td>6.0</td>\n",
       "      <td>9.0</td>\n",
       "      <td>0.76</td>\n",
       "    </tr>\n",
       "    <tr>\n",
       "      <th>16238</th>\n",
       "      <td>fffe32003200370030003700</td>\n",
       "      <td>2008-02-26</td>\n",
       "      <td>Male</td>\n",
       "      <td>Service</td>\n",
       "      <td>No</td>\n",
       "      <td>3.0</td>\n",
       "      <td>6.0</td>\n",
       "      <td>7.8</td>\n",
       "      <td>0.69</td>\n",
       "    </tr>\n",
       "    <tr>\n",
       "      <th>1201</th>\n",
       "      <td>fffe3900320039003500</td>\n",
       "      <td>2008-01-28</td>\n",
       "      <td>Female</td>\n",
       "      <td>Service</td>\n",
       "      <td>No</td>\n",
       "      <td>1.0</td>\n",
       "      <td>2.0</td>\n",
       "      <td>4.5</td>\n",
       "      <td>0.23</td>\n",
       "    </tr>\n",
       "    <tr>\n",
       "      <th>22087</th>\n",
       "      <td>fffe33003400330038003700</td>\n",
       "      <td>2008-07-31</td>\n",
       "      <td>Female</td>\n",
       "      <td>Service</td>\n",
       "      <td>Yes</td>\n",
       "      <td>1.0</td>\n",
       "      <td>3.0</td>\n",
       "      <td>4.1</td>\n",
       "      <td>0.31</td>\n",
       "    </tr>\n",
       "    <tr>\n",
       "      <th>20265</th>\n",
       "      <td>fffe32003800320031003000</td>\n",
       "      <td>2008-01-28</td>\n",
       "      <td>Female</td>\n",
       "      <td>Service</td>\n",
       "      <td>Yes</td>\n",
       "      <td>2.0</td>\n",
       "      <td>5.0</td>\n",
       "      <td>5.6</td>\n",
       "      <td>0.44</td>\n",
       "    </tr>\n",
       "    <tr>\n",
       "      <th>9163</th>\n",
       "      <td>fffe31003000330039003500</td>\n",
       "      <td>2008-07-21</td>\n",
       "      <td>Male</td>\n",
       "      <td>Service</td>\n",
       "      <td>Yes</td>\n",
       "      <td>2.0</td>\n",
       "      <td>3.0</td>\n",
       "      <td>5.3</td>\n",
       "      <td>0.43</td>\n",
       "    </tr>\n",
       "  </tbody>\n",
       "</table>\n",
       "</div>"
      ],
      "text/plain": [
       "                    Employee ID Date of Joining  Gender Company Type  \\\n",
       "4174   fffe31003300340036003600      2008-02-27  Female      Service   \n",
       "10858  fffe33003100380035003300      2008-11-04    Male      Service   \n",
       "16093  fffe32003900310033003700      2008-07-15    Male      Service   \n",
       "2354   fffe31003700300037003600      2008-04-17  Female      Service   \n",
       "20284  fffe31003600340033003700      2008-08-05  Female      Service   \n",
       "20361      fffe3100320036003000      2008-02-11  Female      Service   \n",
       "22295  fffe32003800320032003100      2008-02-20  Female      Service   \n",
       "16446      fffe3200310032003600      2008-03-24  Female      Service   \n",
       "13505  fffe32003600340038003000      2008-02-19  Female      Service   \n",
       "9137   fffe31003500380036003600      2008-02-07  Female      Service   \n",
       "16238  fffe32003200370030003700      2008-02-26    Male      Service   \n",
       "1201       fffe3900320039003500      2008-01-28  Female      Service   \n",
       "22087  fffe33003400330038003700      2008-07-31  Female      Service   \n",
       "20265  fffe32003800320031003000      2008-01-28  Female      Service   \n",
       "9163   fffe31003000330039003500      2008-07-21    Male      Service   \n",
       "\n",
       "      WFH Setup Available  Designation  Resource Allocation  \\\n",
       "4174                  Yes          2.0                  3.0   \n",
       "10858                  No          2.0                  4.0   \n",
       "16093                  No          2.0                  3.0   \n",
       "2354                  Yes          0.0                  1.0   \n",
       "20284                 Yes          1.0                  4.0   \n",
       "20361                  No          3.0                  5.0   \n",
       "22295                  No          2.0                  4.0   \n",
       "16446                 Yes          2.0                  5.0   \n",
       "13505                  No          1.0                  4.0   \n",
       "9137                   No          2.0                  6.0   \n",
       "16238                  No          3.0                  6.0   \n",
       "1201                   No          1.0                  2.0   \n",
       "22087                 Yes          1.0                  3.0   \n",
       "20265                 Yes          2.0                  5.0   \n",
       "9163                  Yes          2.0                  3.0   \n",
       "\n",
       "       Mental Fatigue Score  Burn Rate  \n",
       "4174                    6.5       0.45  \n",
       "10858                   4.9       0.25  \n",
       "16093                   3.8       0.33  \n",
       "2354                    0.5       0.05  \n",
       "20284                   7.0       0.48  \n",
       "20361                   7.7       0.68  \n",
       "22295                   7.6       0.55  \n",
       "16446                   4.9       0.41  \n",
       "13505                   5.0       0.40  \n",
       "9137                    9.0       0.76  \n",
       "16238                   7.8       0.69  \n",
       "1201                    4.5       0.23  \n",
       "22087                   4.1       0.31  \n",
       "20265                   5.6       0.44  \n",
       "9163                    5.3       0.43  "
      ]
     },
     "execution_count": 478,
     "metadata": {},
     "output_type": "execute_result"
    }
   ],
   "source": [
    "df_all.sample(15)"
   ]
  },
  {
   "cell_type": "markdown",
   "id": "4bbdf0d4",
   "metadata": {},
   "source": [
    "# 1. One Sample Mean "
   ]
  },
  {
   "cell_type": "code",
   "execution_count": 242,
   "id": "2f55c2b7",
   "metadata": {},
   "outputs": [
    {
     "name": "stdout",
     "output_type": "stream",
     "text": [
      "Mean Burn Rate (out of 1.0) in the population of 12k employees: 0.45329226219812724\n",
      "Mean Fatigue score (out of 10) in the population of 12k employees: 5.738721866272384\n"
     ]
    }
   ],
   "source": [
    "#Population Mean Burn Rate - 12,174 employees \n",
    "pop_burn_rate = df_all['Burn Rate'].mean()\n",
    "pop_fatigue = df_all['Mental Fatigue Score'].mean()\n",
    "print(f'Mean Burn Rate (out of 1.0) in the population of 12k employees: {pop_burn_rate}')\n",
    "print(f'Mean Fatigue score (out of 10) in the population of 12k employees: {pop_fatigue}')"
   ]
  },
  {
   "cell_type": "markdown",
   "id": "7a1ac611",
   "metadata": {},
   "source": [
    "### Sample size for mean estimation "
   ]
  },
  {
   "cell_type": "code",
   "execution_count": 282,
   "id": "26dc56d3",
   "metadata": {},
   "outputs": [
    {
     "name": "stdout",
     "output_type": "stream",
     "text": [
      "estimated population standard deviation for burn rate: 0.19744953503886128\n",
      "estimated population standard deviation for fatigue: 1.9197469875374102\n",
      "min sample size to calculate mean burn rate: 59.907937054615736\n",
      "min sample size to calculate mean fatigue score: 5663.176844337708\n",
      "\n",
      "\n",
      "In conclusion, we will take a random sample of 5,700 employees for the mean calculations\n"
     ]
    }
   ],
   "source": [
    "#Sample Size calculation - Estimating MEAN metrics for employees. \n",
    "\n",
    "#If the population is 12,174 employees, what is a sufficient sample size to estimate sample means\n",
    "#For 95% confidence and 5% margin of error?\n",
    "\n",
    "est_pop_std_br = (((df_all['Burn Rate']-df_all['Burn Rate'].mean())**2).mean())**(.5)\n",
    "est_pop_std_fat = (((df_all['Mental Fatigue Score']-df_all['Mental Fatigue Score'].mean())**2).mean())**(.5)\n",
    "\n",
    "print(f'estimated population standard deviation for burn rate: {est_pop_std_br}')\n",
    "print(f'estimated population standard deviation for fatigue: {est_pop_std_fat}')\n",
    "\n",
    "#Sample size N for confidence interval 95% (z = 1.96) and Margin of Error of 2% (0.02)\n",
    "def calc_n_mean(z=1.96,sigma=1,M=.05):\n",
    "    n = ((z*sigma)/M)**2 \n",
    "    return n \n",
    "\n",
    "print(f'min sample size to calculate mean burn rate: {calc_n_mean(z=1.96,sigma=est_pop_std_br,M=0.05)}')\n",
    "print(f'min sample size to calculate mean fatigue score: {calc_n_mean(z=1.96,sigma=est_pop_std_fat,M=0.05)}')\n",
    "\n",
    "print('\\n')\n",
    "print('In conclusion, we will take a random sample of 5,700 employees for the mean calculations')"
   ]
  },
  {
   "cell_type": "code",
   "execution_count": 265,
   "id": "1fde14cb",
   "metadata": {},
   "outputs": [],
   "source": [
    "#Generate random sample for mean estimates \n",
    "df_sample_1 = df_all.sample(5700)\n",
    "\n",
    "#The samples are close to normal \n",
    "#df_sample_1['Burn Rate'].hist()\n",
    "#df_sample_1['Mental Fatigue Score'].hist()"
   ]
  },
  {
   "cell_type": "markdown",
   "id": "9f7fb678",
   "metadata": {},
   "source": [
    "### Estimate population mean given a random sample (confidence intervals)"
   ]
  },
  {
   "cell_type": "code",
   "execution_count": 286,
   "id": "4593fefc",
   "metadata": {},
   "outputs": [
    {
     "name": "stdout",
     "output_type": "stream",
     "text": [
      "Mean Burn Rate (out of 1.0) in the sample of 5.7k employees: 0.45167 +/- -0.0016220867595307384\n",
      "95% Confidence Interval for sample mean Burn Rate: [0.45329,0.45005]\n",
      "Population Mean Burn Rate: 0.45329\n",
      "\n",
      "\n",
      "Mean Fatigue score (out of 10) in the population of 5.7k employees: 5.72754 +/- -0.01570409920134166\n",
      "95% Confidence Interval for sample mean fatigue score: [5.74325,5.71184]\n",
      "Population Mean Burn Rate: 5.73872\n"
     ]
    }
   ],
   "source": [
    "#Sample statistic -- sample mean burn rate and fatigue scores, calclated with 95% confidence intervals \n",
    "sample_burn_rate = df_sample_1['Burn Rate'].mean()\n",
    "sample_fatigue = df_sample_1['Mental Fatigue Score'].mean()\n",
    "\n",
    "n = 5700\n",
    "dof = n-1 \n",
    "tstat = 1.96 \n",
    "\n",
    "def calc_sample_std(col):\n",
    "    return (((col-col.mean())**2).mean())**0.5 \n",
    "\n",
    "def calc_MOE(col,n,tstat):\n",
    "    return tstat *(calc_sample_std(col)/(n**.5))\n",
    "    \n",
    "sample_burn_rate_MOE = calc_MOE(df_sample_1['Burn Rate'],n,t)\n",
    "sample_fatigue_MOE = calc_MOE(df_sample_1['Mental Fatigue Score'],n,t)\n",
    "\n",
    "print(f'Mean Burn Rate (out of 1.0) in the sample of 5.7k employees: {round(sample_burn_rate,5)} +/- {sample_burn_rate_MOE}')\n",
    "print(f'95% Confidence Interval for sample mean Burn Rate: [{round(sample_burn_rate-sample_burn_rate_MOE,5)},{round(sample_burn_rate+sample_burn_rate_MOE,5)}]')\n",
    "print(f'Population Mean Burn Rate: {round(pop_burn_rate,5)}')\n",
    "\n",
    "print('\\n')\n",
    "print(f'Mean Fatigue score (out of 10) in the population of 5.7k employees: {round(sample_fatigue,5)} +/- {sample_fatigue_MOE}')\n",
    "print(f'95% Confidence Interval for sample mean fatigue score: [{round(sample_fatigue-sample_fatigue_MOE,5)},{round(sample_fatigue+sample_fatigue_MOE,5)}]')\n",
    "print(f'Population Mean Burn Rate: {round(pop_fatigue,5)}')\n"
   ]
  },
  {
   "cell_type": "markdown",
   "id": "900781f9",
   "metadata": {},
   "source": [
    "### Does the random sample mean differ from the population mean? (hypothesis testing) "
   ]
  },
  {
   "cell_type": "code",
   "execution_count": 339,
   "id": "591876a4",
   "metadata": {},
   "outputs": [],
   "source": [
    "from scipy.stats import t \n",
    "\n",
    "def calc_tstat(sample_mean, pop_mean, sample_std, n):\n",
    "    return (sample_mean-pop_mean)/(sample_std/(n**.5))\n",
    "\n",
    "def calc_p(tstat,n):\n",
    "    dof = n-1 \n",
    "    # p-value for 2-sided test\n",
    "    return 2*(t.cdf(t_stat, dof))\n",
    "    "
   ]
  },
  {
   "cell_type": "code",
   "execution_count": 367,
   "id": "411d8389",
   "metadata": {},
   "outputs": [
    {
     "data": {
      "text/plain": [
       "-0.6226722466850327"
      ]
     },
     "execution_count": 367,
     "metadata": {},
     "output_type": "execute_result"
    }
   ],
   "source": [
    "tstat = calc_tstat(sample_burn_rate, pop_burn_rate, calc_sample_std(df_sample_1['Burn Rate']),5700)\n",
    "tstat"
   ]
  },
  {
   "cell_type": "code",
   "execution_count": 364,
   "id": "f632aea5",
   "metadata": {},
   "outputs": [
    {
     "data": {
      "text/plain": [
       "0.9862550752534358"
      ]
     },
     "execution_count": 364,
     "metadata": {},
     "output_type": "execute_result"
    }
   ],
   "source": [
    "p = 2*(t.cdf(t_stat, 5700-1))\n",
    "p"
   ]
  },
  {
   "cell_type": "code",
   "execution_count": 365,
   "id": "f2349aaa",
   "metadata": {},
   "outputs": [
    {
     "name": "stdout",
     "output_type": "stream",
     "text": [
      "Since p-value 0.99>0.05 we fail to reject the null hypothesis that the sample mean burn rate       0.45167 \n",
      " differs from the population mean burn rate 0.45329\n"
     ]
    }
   ],
   "source": [
    "print(f'Since p-value 0.99>0.05 we fail to reject the null hypothesis that the sample mean burn rate \\\n",
    "      {round(sample_burn_rate,5)} \\n differs from the population mean burn rate {round(pop_burn_rate,5)}')"
   ]
  },
  {
   "cell_type": "code",
   "execution_count": 366,
   "id": "8076197e",
   "metadata": {},
   "outputs": [
    {
     "data": {
      "text/html": [
       "<div>\n",
       "<style scoped>\n",
       "    .dataframe tbody tr th:only-of-type {\n",
       "        vertical-align: middle;\n",
       "    }\n",
       "\n",
       "    .dataframe tbody tr th {\n",
       "        vertical-align: top;\n",
       "    }\n",
       "\n",
       "    .dataframe thead th {\n",
       "        text-align: right;\n",
       "    }\n",
       "</style>\n",
       "<table border=\"1\" class=\"dataframe\">\n",
       "  <thead>\n",
       "    <tr style=\"text-align: right;\">\n",
       "      <th></th>\n",
       "      <th>Employee ID</th>\n",
       "      <th>Date of Joining</th>\n",
       "      <th>Gender</th>\n",
       "      <th>Company Type</th>\n",
       "      <th>WFH Setup Available</th>\n",
       "      <th>Designation</th>\n",
       "      <th>Resource Allocation</th>\n",
       "      <th>Mental Fatigue Score</th>\n",
       "      <th>Burn Rate</th>\n",
       "      <th>High_BR</th>\n",
       "      <th>High_Fatigue</th>\n",
       "    </tr>\n",
       "  </thead>\n",
       "  <tbody>\n",
       "    <tr>\n",
       "      <th>0</th>\n",
       "      <td>fffe32003000360033003200</td>\n",
       "      <td>2008-09-30</td>\n",
       "      <td>Female</td>\n",
       "      <td>Service</td>\n",
       "      <td>No</td>\n",
       "      <td>2.0</td>\n",
       "      <td>3.0</td>\n",
       "      <td>3.8</td>\n",
       "      <td>0.16</td>\n",
       "      <td>0</td>\n",
       "      <td>0</td>\n",
       "    </tr>\n",
       "    <tr>\n",
       "      <th>4</th>\n",
       "      <td>fffe31003900340031003600</td>\n",
       "      <td>2008-07-24</td>\n",
       "      <td>Female</td>\n",
       "      <td>Service</td>\n",
       "      <td>No</td>\n",
       "      <td>3.0</td>\n",
       "      <td>7.0</td>\n",
       "      <td>6.9</td>\n",
       "      <td>0.52</td>\n",
       "      <td>0</td>\n",
       "      <td>0</td>\n",
       "    </tr>\n",
       "    <tr>\n",
       "      <th>6</th>\n",
       "      <td>fffe33003300340039003100</td>\n",
       "      <td>2008-01-02</td>\n",
       "      <td>Female</td>\n",
       "      <td>Service</td>\n",
       "      <td>No</td>\n",
       "      <td>3.0</td>\n",
       "      <td>6.0</td>\n",
       "      <td>7.9</td>\n",
       "      <td>0.62</td>\n",
       "      <td>0</td>\n",
       "      <td>1</td>\n",
       "    </tr>\n",
       "    <tr>\n",
       "      <th>17</th>\n",
       "      <td>fffe31003500350030003400</td>\n",
       "      <td>2008-03-28</td>\n",
       "      <td>Male</td>\n",
       "      <td>Service</td>\n",
       "      <td>No</td>\n",
       "      <td>3.0</td>\n",
       "      <td>6.0</td>\n",
       "      <td>6.7</td>\n",
       "      <td>0.59</td>\n",
       "      <td>0</td>\n",
       "      <td>0</td>\n",
       "    </tr>\n",
       "    <tr>\n",
       "      <th>26</th>\n",
       "      <td>fffe3200340036003400</td>\n",
       "      <td>2008-10-11</td>\n",
       "      <td>Male</td>\n",
       "      <td>Service</td>\n",
       "      <td>No</td>\n",
       "      <td>2.0</td>\n",
       "      <td>4.0</td>\n",
       "      <td>6.6</td>\n",
       "      <td>0.44</td>\n",
       "      <td>0</td>\n",
       "      <td>0</td>\n",
       "    </tr>\n",
       "    <tr>\n",
       "      <th>...</th>\n",
       "      <td>...</td>\n",
       "      <td>...</td>\n",
       "      <td>...</td>\n",
       "      <td>...</td>\n",
       "      <td>...</td>\n",
       "      <td>...</td>\n",
       "      <td>...</td>\n",
       "      <td>...</td>\n",
       "      <td>...</td>\n",
       "      <td>...</td>\n",
       "      <td>...</td>\n",
       "    </tr>\n",
       "    <tr>\n",
       "      <th>22718</th>\n",
       "      <td>fffe3500330039003900</td>\n",
       "      <td>2008-07-15</td>\n",
       "      <td>Female</td>\n",
       "      <td>Service</td>\n",
       "      <td>No</td>\n",
       "      <td>1.0</td>\n",
       "      <td>2.0</td>\n",
       "      <td>4.6</td>\n",
       "      <td>0.34</td>\n",
       "      <td>0</td>\n",
       "      <td>0</td>\n",
       "    </tr>\n",
       "    <tr>\n",
       "      <th>22732</th>\n",
       "      <td>fffe31003300320030003800</td>\n",
       "      <td>2008-12-21</td>\n",
       "      <td>Female</td>\n",
       "      <td>Service</td>\n",
       "      <td>No</td>\n",
       "      <td>2.0</td>\n",
       "      <td>4.0</td>\n",
       "      <td>6.3</td>\n",
       "      <td>0.39</td>\n",
       "      <td>0</td>\n",
       "      <td>0</td>\n",
       "    </tr>\n",
       "    <tr>\n",
       "      <th>22735</th>\n",
       "      <td>fffe3400320037003000</td>\n",
       "      <td>2008-07-26</td>\n",
       "      <td>Male</td>\n",
       "      <td>Service</td>\n",
       "      <td>No</td>\n",
       "      <td>3.0</td>\n",
       "      <td>7.0</td>\n",
       "      <td>7.3</td>\n",
       "      <td>0.64</td>\n",
       "      <td>0</td>\n",
       "      <td>0</td>\n",
       "    </tr>\n",
       "    <tr>\n",
       "      <th>22739</th>\n",
       "      <td>fffe32003300350034003100</td>\n",
       "      <td>2008-02-06</td>\n",
       "      <td>Male</td>\n",
       "      <td>Service</td>\n",
       "      <td>No</td>\n",
       "      <td>2.0</td>\n",
       "      <td>5.0</td>\n",
       "      <td>8.5</td>\n",
       "      <td>0.67</td>\n",
       "      <td>0</td>\n",
       "      <td>1</td>\n",
       "    </tr>\n",
       "    <tr>\n",
       "      <th>22748</th>\n",
       "      <td>fffe33003300320036003900</td>\n",
       "      <td>2008-01-10</td>\n",
       "      <td>Female</td>\n",
       "      <td>Service</td>\n",
       "      <td>No</td>\n",
       "      <td>2.0</td>\n",
       "      <td>5.0</td>\n",
       "      <td>5.9</td>\n",
       "      <td>0.52</td>\n",
       "      <td>0</td>\n",
       "      <td>0</td>\n",
       "    </tr>\n",
       "  </tbody>\n",
       "</table>\n",
       "<p>5609 rows × 11 columns</p>\n",
       "</div>"
      ],
      "text/plain": [
       "                    Employee ID Date of Joining  Gender Company Type  \\\n",
       "0      fffe32003000360033003200      2008-09-30  Female      Service   \n",
       "4      fffe31003900340031003600      2008-07-24  Female      Service   \n",
       "6      fffe33003300340039003100      2008-01-02  Female      Service   \n",
       "17     fffe31003500350030003400      2008-03-28    Male      Service   \n",
       "26         fffe3200340036003400      2008-10-11    Male      Service   \n",
       "...                         ...             ...     ...          ...   \n",
       "22718      fffe3500330039003900      2008-07-15  Female      Service   \n",
       "22732  fffe31003300320030003800      2008-12-21  Female      Service   \n",
       "22735      fffe3400320037003000      2008-07-26    Male      Service   \n",
       "22739  fffe32003300350034003100      2008-02-06    Male      Service   \n",
       "22748  fffe33003300320036003900      2008-01-10  Female      Service   \n",
       "\n",
       "      WFH Setup Available  Designation  Resource Allocation  \\\n",
       "0                      No          2.0                  3.0   \n",
       "4                      No          3.0                  7.0   \n",
       "6                      No          3.0                  6.0   \n",
       "17                     No          3.0                  6.0   \n",
       "26                     No          2.0                  4.0   \n",
       "...                   ...          ...                  ...   \n",
       "22718                  No          1.0                  2.0   \n",
       "22732                  No          2.0                  4.0   \n",
       "22735                  No          3.0                  7.0   \n",
       "22739                  No          2.0                  5.0   \n",
       "22748                  No          2.0                  5.0   \n",
       "\n",
       "       Mental Fatigue Score  Burn Rate  High_BR  High_Fatigue  \n",
       "0                       3.8       0.16        0             0  \n",
       "4                       6.9       0.52        0             0  \n",
       "6                       7.9       0.62        0             1  \n",
       "17                      6.7       0.59        0             0  \n",
       "26                      6.6       0.44        0             0  \n",
       "...                     ...        ...      ...           ...  \n",
       "22718                   4.6       0.34        0             0  \n",
       "22732                   6.3       0.39        0             0  \n",
       "22735                   7.3       0.64        0             0  \n",
       "22739                   8.5       0.67        0             1  \n",
       "22748                   5.9       0.52        0             0  \n",
       "\n",
       "[5609 rows x 11 columns]"
      ]
     },
     "execution_count": 366,
     "metadata": {},
     "output_type": "execute_result"
    }
   ],
   "source": [
    "df_sample_no_wfh = df_all.loc[df_all['WFH Setup Available']=='No']\n",
    "df_sample_no_wfh"
   ]
  },
  {
   "cell_type": "markdown",
   "id": "7fd8540e",
   "metadata": {},
   "source": [
    "### If the \"random sample\" is now the subset of employees without a wfh setup available, is the mean burnout rate higher than the population mean? right-tailed hypothesis test "
   ]
  },
  {
   "cell_type": "code",
   "execution_count": 370,
   "id": "84ba7950",
   "metadata": {},
   "outputs": [
    {
     "data": {
      "text/plain": [
       "0.5173275093599572"
      ]
     },
     "execution_count": 370,
     "metadata": {},
     "output_type": "execute_result"
    }
   ],
   "source": [
    "df_sample_no_wfh['Burn Rate'].mean()"
   ]
  },
  {
   "cell_type": "code",
   "execution_count": 371,
   "id": "c67265ae",
   "metadata": {},
   "outputs": [
    {
     "data": {
      "text/plain": [
       "0.45329226219812724"
      ]
     },
     "execution_count": 371,
     "metadata": {},
     "output_type": "execute_result"
    }
   ],
   "source": [
    "pop_burn_rate"
   ]
  },
  {
   "cell_type": "code",
   "execution_count": 368,
   "id": "b61dfc44",
   "metadata": {},
   "outputs": [
    {
     "data": {
      "text/plain": [
       "24.452181729116468"
      ]
     },
     "execution_count": 368,
     "metadata": {},
     "output_type": "execute_result"
    }
   ],
   "source": [
    "tstat_no_wfh = calc_tstat(df_sample_no_wfh['Burn Rate'].mean(), pop_burn_rate, calc_sample_std(df_sample_wfh['Burn Rate']),5609)\n",
    "tstat_no_wfh"
   ]
  },
  {
   "cell_type": "code",
   "execution_count": 369,
   "id": "d2b9b0c4",
   "metadata": {},
   "outputs": [
    {
     "data": {
      "text/plain": [
       "1.0"
      ]
     },
     "execution_count": 369,
     "metadata": {},
     "output_type": "execute_result"
    }
   ],
   "source": [
    "from scipy.stats import t \n",
    "# p-value for 1-sided test\n",
    "p = 1*(t.cdf(tstat_no_wfh, 5609-1))\n",
    "p"
   ]
  },
  {
   "cell_type": "code",
   "execution_count": 373,
   "id": "bece8c5e",
   "metadata": {},
   "outputs": [
    {
     "name": "stdout",
     "output_type": "stream",
     "text": [
      "Since p-value = 1 we fail to reject the null hypothesis that the sample mean burnout rate differs from the population rate 0.45\n"
     ]
    }
   ],
   "source": [
    "print(f'Since p-value = 1 we fail to reject the null hypothesis that the sample mean burnout rate differs from the population rate 0.45')"
   ]
  },
  {
   "cell_type": "markdown",
   "id": "23bc51fb",
   "metadata": {},
   "source": [
    "# 2. One Sample Proportion "
   ]
  },
  {
   "cell_type": "code",
   "execution_count": 375,
   "id": "e82ac855",
   "metadata": {},
   "outputs": [],
   "source": [
    "#Population Proportion Burn Rate/Fatigue with a high rating - 12,174 employees \n",
    "#Define \"high\" as greater than or equal to .75 burn rate and greater than or equal to 7.5 fatigue score \n",
    "df_all.loc[:,'High_BR'] = (df_all['Burn Rate']>=.75).astype(int)\n",
    "df_all.loc[:,'High_Fatigue'] = (df_all['Mental Fatigue Score']>=7.5).astype(int)"
   ]
  },
  {
   "cell_type": "code",
   "execution_count": 376,
   "id": "9ad52535",
   "metadata": {},
   "outputs": [
    {
     "name": "stdout",
     "output_type": "stream",
     "text": [
      "Proportion of High Burn Rate in the population of 12k employees: 0.07162805979957286\n",
      "Proportion of High Fatigue score in the population of 12k employees: 0.18572367340233284\n"
     ]
    }
   ],
   "source": [
    "pop_prop_burn_rate = df_all['High_BR'].mean()\n",
    "pop_prop_fatigue = df_all['High_Fatigue'].mean()\n",
    "print(f'Proportion of High Burn Rate in the population of 12k employees: {pop_prop_burn_rate}')\n",
    "print(f'Proportion of High Fatigue score in the population of 12k employees: {pop_prop_fatigue}')"
   ]
  },
  {
   "cell_type": "markdown",
   "id": "51bd6e76",
   "metadata": {},
   "source": [
    "### Sample size for proportion estimation "
   ]
  },
  {
   "cell_type": "code",
   "execution_count": 380,
   "id": "2ad2973f",
   "metadata": {},
   "outputs": [
    {
     "name": "stdout",
     "output_type": "stream",
     "text": [
      "We will take a sample size of 500 since n=384\n"
     ]
    }
   ],
   "source": [
    "p = 0.5\n",
    "z = 1.96\n",
    "E = 0.05 \n",
    "\n",
    "n = (z/E)**2*(p*(1-p))\n",
    "n\n",
    "print(f'We will take a sample size of 500 since n=384')"
   ]
  },
  {
   "cell_type": "code",
   "execution_count": 385,
   "id": "61455c60",
   "metadata": {},
   "outputs": [],
   "source": [
    "df_sample_2 = df_all.sample(500)"
   ]
  },
  {
   "cell_type": "markdown",
   "id": "a7e17538",
   "metadata": {},
   "source": [
    "### Estimate population proportion given a random sample (confidence intervals)"
   ]
  },
  {
   "cell_type": "code",
   "execution_count": 388,
   "id": "d64dc40a",
   "metadata": {},
   "outputs": [
    {
     "data": {
      "text/plain": [
       "0    467\n",
       "1     33\n",
       "Name: High_BR, dtype: int64"
      ]
     },
     "execution_count": 388,
     "metadata": {},
     "output_type": "execute_result"
    }
   ],
   "source": [
    "#Check that there are at least 10 successes and 10 failures \n",
    "df_sample_2['High_BR'].value_counts()"
   ]
  },
  {
   "cell_type": "code",
   "execution_count": 389,
   "id": "7fcfbc3f",
   "metadata": {},
   "outputs": [
    {
     "data": {
      "text/plain": [
       "0    402\n",
       "1     98\n",
       "Name: High_Fatigue, dtype: int64"
      ]
     },
     "execution_count": 389,
     "metadata": {},
     "output_type": "execute_result"
    }
   ],
   "source": [
    "df_sample_2['High_Fatigue'].value_counts()"
   ]
  },
  {
   "cell_type": "code",
   "execution_count": 394,
   "id": "f1737d67",
   "metadata": {},
   "outputs": [
    {
     "name": "stdout",
     "output_type": "stream",
     "text": [
      "Proportion of High Burn Rate in the sample of 500 employees: 0.066+/- 0.02176\n",
      "95% Confidence Interval for sample proportion with High BR: [0.04424,0.08776]\n",
      "Population Proportion with High Burn Rate: 0.07163\n",
      "\n",
      "\n",
      "Proportion of High Fatigue score in the sample of 500 employees: 0.196+/- 0.0348\n",
      "95% Confidence Interval for sample proportion with High BR: [0.1612,0.2308]\n",
      "Population Proportion with High Burn Rate: 0.18572\n"
     ]
    }
   ],
   "source": [
    "sample_prop_burn_rate = df_sample_2['High_BR'].mean()\n",
    "sample_prop_fatigue = df_sample_2['High_Fatigue'].mean()\n",
    "\n",
    "def calc_prop_MOE(sample_prop,n,z):\n",
    "    return z*(sample_prop*(1-sample_prop)/n)**0.5\n",
    "\n",
    "\n",
    "sample_prop_burn_rate_MOE = calc_prop_MOE(sample_prop_burn_rate,n=500,z=1.96)\n",
    "sample_prop_fatigue_MOE = calc_prop_MOE(sample_prop_fatigue,n=500,z=1.96)\n",
    "\n",
    "print(f'Proportion of High Burn Rate in the sample of 500 employees: {round(sample_prop_burn_rate,5)}+/- {round(sample_prop_burn_rate_MOE,5)}')\n",
    "print(f'95% Confidence Interval for sample proportion with High BR: [{round(sample_prop_burn_rate-sample_prop_burn_rate_MOE,5)},{round(sample_prop_burn_rate+sample_prop_burn_rate_MOE,5)}]')\n",
    "print(f'Population Proportion with High Burn Rate: {round(pop_prop_burn_rate,5)}')\n",
    "\n",
    "print('\\n')\n",
    "print(f'Proportion of High Fatigue score in the sample of 500 employees: {round(sample_prop_fatigue,5)}+/- {round(sample_prop_fatigue_MOE,5)}')\n",
    "print(f'95% Confidence Interval for sample proportion with High BR: [{round(sample_prop_fatigue-sample_prop_fatigue_MOE,5)},{round(sample_prop_fatigue+sample_prop_fatigue_MOE,5)}]')\n",
    "print(f'Population Proportion with High Burn Rate: {round(pop_prop_fatigue,5)}')\n"
   ]
  },
  {
   "cell_type": "markdown",
   "id": "9c9d5d97",
   "metadata": {},
   "source": [
    "### Does the random sample proportion differ from the population proportion? (hypothesis testing) "
   ]
  },
  {
   "cell_type": "code",
   "execution_count": 414,
   "id": "9a9df624",
   "metadata": {},
   "outputs": [
    {
     "data": {
      "text/plain": [
       "-0.48802391987031307"
      ]
     },
     "execution_count": 414,
     "metadata": {},
     "output_type": "execute_result"
    }
   ],
   "source": [
    "z = (sample_prop_burn_rate - pop_prop_burn_rate)/(((pop_prop_burn_rate*(1-pop_prop_burn_rate))/500)**.5)\n",
    "z"
   ]
  },
  {
   "cell_type": "code",
   "execution_count": 415,
   "id": "0ebe19f0",
   "metadata": {},
   "outputs": [
    {
     "name": "stdout",
     "output_type": "stream",
     "text": [
      "0.6255328983162566\n"
     ]
    }
   ],
   "source": [
    "from scipy.stats import norm\n",
    "# Calculate the p-value for a z-score of the one calculated \n",
    "p_value = norm.cdf((z))*2\n",
    "# Print the p-value\n",
    "print(p_value)\n"
   ]
  },
  {
   "cell_type": "markdown",
   "id": "98d9bc85",
   "metadata": {},
   "source": [
    "### If the \"random sample\" is now the subset of employees without a wfh setup available, is the proportion with high burnout rate higher than the population proportion? right-tailed hypothesis test "
   ]
  },
  {
   "cell_type": "code",
   "execution_count": 428,
   "id": "6095f19a",
   "metadata": {},
   "outputs": [
    {
     "data": {
      "text/plain": [
       "0.098"
      ]
     },
     "execution_count": 428,
     "metadata": {},
     "output_type": "execute_result"
    }
   ],
   "source": [
    "sample_set = df_sample_no_wfh['High_BR'].sample(500)\n",
    "sample_set.mean()"
   ]
  },
  {
   "cell_type": "code",
   "execution_count": 434,
   "id": "4917655d",
   "metadata": {},
   "outputs": [
    {
     "data": {
      "text/plain": [
       "0    451\n",
       "1     49\n",
       "Name: High_BR, dtype: int64"
      ]
     },
     "execution_count": 434,
     "metadata": {},
     "output_type": "execute_result"
    }
   ],
   "source": [
    "sample_set.value_counts()"
   ]
  },
  {
   "cell_type": "code",
   "execution_count": 429,
   "id": "63804042",
   "metadata": {},
   "outputs": [
    {
     "data": {
      "text/plain": [
       "0.07162805979957286"
      ]
     },
     "execution_count": 429,
     "metadata": {},
     "output_type": "execute_result"
    }
   ],
   "source": [
    "df_all['High_BR'].mean()"
   ]
  },
  {
   "cell_type": "code",
   "execution_count": 430,
   "id": "e0d1ffbe",
   "metadata": {},
   "outputs": [
    {
     "data": {
      "text/plain": [
       "2.2867805406358204"
      ]
     },
     "execution_count": 430,
     "metadata": {},
     "output_type": "execute_result"
    }
   ],
   "source": [
    "z = (sample_set.mean() - pop_prop_burn_rate)/(((pop_prop_burn_rate*(1-pop_prop_burn_rate))/500)**.5)\n",
    "z"
   ]
  },
  {
   "cell_type": "code",
   "execution_count": 431,
   "id": "cfa29b9d",
   "metadata": {},
   "outputs": [
    {
     "name": "stdout",
     "output_type": "stream",
     "text": [
      "0.9888956820686565\n"
     ]
    }
   ],
   "source": [
    "from scipy.stats import norm\n",
    "# Calculate the p-value for a z-score of the one calculated \n",
    "p_value = norm.cdf((z))*1\n",
    "# Print the p-value\n",
    "print(p_value)\n"
   ]
  },
  {
   "cell_type": "markdown",
   "id": "2e2b96bb",
   "metadata": {},
   "source": [
    "# 4. Two Independent Proprotions (comparing proportion of high burn out rate in group A without any wfh setup and group B with wfh setup) "
   ]
  },
  {
   "cell_type": "code",
   "execution_count": 441,
   "id": "256c12f5",
   "metadata": {},
   "outputs": [
    {
     "data": {
      "text/plain": [
       "0    891\n",
       "1    109\n",
       "Name: High_BR, dtype: int64"
      ]
     },
     "execution_count": 441,
     "metadata": {},
     "output_type": "execute_result"
    }
   ],
   "source": [
    "# Group A - 1000 without WFH  \n",
    "group_A = df_all.loc[df_all['WFH Setup Available']=='No'].sample(1000)\n",
    "group_A['High_BR'].value_counts()"
   ]
  },
  {
   "cell_type": "code",
   "execution_count": 442,
   "id": "eab86643",
   "metadata": {},
   "outputs": [
    {
     "data": {
      "text/plain": [
       "0    963\n",
       "1     37\n",
       "Name: High_BR, dtype: int64"
      ]
     },
     "execution_count": 442,
     "metadata": {},
     "output_type": "execute_result"
    }
   ],
   "source": [
    "# Group B - 1000 with WFH setup  \n",
    "group_B = df_all.loc[df_all['WFH Setup Available']=='Yes'].sample(1000)\n",
    "group_B['High_BR'].value_counts()"
   ]
  },
  {
   "cell_type": "code",
   "execution_count": 462,
   "id": "2848f4ab",
   "metadata": {},
   "outputs": [
    {
     "name": "stdout",
     "output_type": "stream",
     "text": [
      "The 95% confidence interval for the difference in proportion of employees with high burn out rate between the no wfh and the wfh group is 0.072 +- 0.02258 or [(0.04942, 0.09458)]\n",
      "\n",
      "This interval does not include 0 so there IS a difference\n"
     ]
    }
   ],
   "source": [
    "#Confidence interval on the difference \n",
    "\n",
    "p1 = group_A['High_BR'].mean()\n",
    "p2 = group_B['High_BR'].mean()\n",
    "z = 1.96\n",
    "n1 = n2 = 1000\n",
    "\n",
    "prop_diff_stat = p1-p2\n",
    "moe = z * ((p1*(1-p1)/n1) + (p2*(1-p2)/n2))**(.5)\n",
    "\n",
    "print(f'The 95% confidence interval for the difference in proportion of \\\n",
    "employees with high burn out rate between the no wfh and the wfh group is {round(prop_diff_stat,5)} +- {round(moe,5)}\\\n",
    " or [{round(prop_diff_stat-moe,5),round(prop_diff_stat+moe,5)}]')\n",
    "\n",
    "print('\\nThis interval does not include 0 so there IS a difference')"
   ]
  },
  {
   "cell_type": "code",
   "execution_count": 471,
   "id": "ad11be7d",
   "metadata": {},
   "outputs": [
    {
     "data": {
      "text/plain": [
       "6.188938989836859"
      ]
     },
     "execution_count": 471,
     "metadata": {},
     "output_type": "execute_result"
    }
   ],
   "source": [
    "#Hypothesis Testing on difference - is it significant?\n",
    "\n",
    "#pooled estimated of p \n",
    "p_hat = (p1*n1 + p2*n2)/(n1+n2)\n",
    "\n",
    "z = (p1-p2)/((p_hat*(1-p_hat)*(1/n1+1/n2))**.5)\n",
    "z"
   ]
  },
  {
   "cell_type": "code",
   "execution_count": 474,
   "id": "a3d850b2",
   "metadata": {},
   "outputs": [
    {
     "name": "stdout",
     "output_type": "stream",
     "text": [
      "0.9999999996971474\n"
     ]
    }
   ],
   "source": [
    "from scipy.stats import norm\n",
    "# Calculate the p-value for a z-score of the one calculated \n",
    "p_value = norm.cdf((z))*1\n",
    "# Print the p-value\n",
    "print(p_value)"
   ]
  },
  {
   "cell_type": "code",
   "execution_count": null,
   "id": "da629551",
   "metadata": {},
   "outputs": [],
   "source": []
  }
 ],
 "metadata": {
  "kernelspec": {
   "display_name": "Python 3 (ipykernel)",
   "language": "python",
   "name": "python3"
  },
  "language_info": {
   "codemirror_mode": {
    "name": "ipython",
    "version": 3
   },
   "file_extension": ".py",
   "mimetype": "text/x-python",
   "name": "python",
   "nbconvert_exporter": "python",
   "pygments_lexer": "ipython3",
   "version": "3.8.13"
  }
 },
 "nbformat": 4,
 "nbformat_minor": 5
}
